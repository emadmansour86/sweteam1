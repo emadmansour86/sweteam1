{
  "cells": [
    {
      "cell_type": "markdown",
      "metadata": {
        "id": "view-in-github",
        "colab_type": "text"
      },
      "source": [
        "<a href=\"https://colab.research.google.com/github/emadmansour86/sweteam1/blob/main/Hands_on_notebook_introduction_to_Python.ipynb\" target=\"_parent\"><img src=\"https://colab.research.google.com/assets/colab-badge.svg\" alt=\"Open In Colab\"/></a>"
      ]
    },
    {
      "cell_type": "markdown",
      "metadata": {
        "id": "ftCxC4m1WwN4"
      },
      "source": [
        "<a id=\"variables\"> </a>\n",
        "## Python Variables"
      ]
    },
    {
      "cell_type": "markdown",
      "metadata": {
        "id": "loqrEgAPWwN6"
      },
      "source": [
        "#### Declaring and assigning a value to a variable\n",
        "We use the assignment operator  '='  to assign a value to a variable."
      ]
    },
    {
      "cell_type": "code",
      "execution_count": null,
      "metadata": {
        "id": "EEiXyGNbWwN7"
      },
      "outputs": [],
      "source": [
        "num = 30"
      ]
    },
    {
      "cell_type": "markdown",
      "metadata": {
        "id": "Rge6hHBdWwN9"
      },
      "source": [
        "The operand to the left of the = operator is the name of the variable and the operand to the right of the = operator is the value stored in the variable. Here, we have created a variabe named 'num' and we have assigned value 30 to 'num' variable."
      ]
    },
    {
      "cell_type": "markdown",
      "metadata": {
        "id": "PKGTWcsRWwN-"
      },
      "source": [
        "#### Multiple assignments\n",
        "Python allows you to assign a single value to several variables simultaneously. For example −"
      ]
    },
    {
      "cell_type": "code",
      "execution_count": null,
      "metadata": {
        "id": "PRlyM9DOWwN_"
      },
      "outputs": [],
      "source": [
        "#Here, an integer object is created with the value 5, and all three variables are assigned to the same memory location\n",
        "x = y = z = 5"
      ]
    },
    {
      "cell_type": "markdown",
      "metadata": {
        "id": "65HAH67RWwOB"
      },
      "source": [
        "You can also assign multiple objects to multiple variables"
      ]
    },
    {
      "cell_type": "code",
      "execution_count": null,
      "metadata": {
        "id": "rOUYRr38WwOB"
      },
      "outputs": [],
      "source": [
        "a,b,c = 5,10.1,\"Great Lakes\""
      ]
    },
    {
      "cell_type": "markdown",
      "metadata": {
        "id": "XcpVNMYeF9Qp"
      },
      "source": [
        "#### Re-assigning a variable"
      ]
    },
    {
      "cell_type": "code",
      "execution_count": null,
      "metadata": {
        "id": "i9okOotLF9Qq"
      },
      "outputs": [],
      "source": [
        "var1 = 25\n",
        "var2 = \"Arthur\"\n",
        "var2 = var1\n",
        "var2"
      ]
    },
    {
      "cell_type": "markdown",
      "metadata": {
        "id": "-itifEJ3WwOD"
      },
      "source": [
        "### Rules and Naming Conventions\n"
      ]
    },
    {
      "cell_type": "markdown",
      "metadata": {
        "id": "5vs6q06hWwOE"
      },
      "source": [
        "\n"
      ]
    },
    {
      "cell_type": "markdown",
      "metadata": {
        "id": "ilx9djl-WwOE"
      },
      "source": [
        "\n",
        "## Data Types\n",
        "\n",
        "A data type is an attribute of data which tells the compiler or interpreter how the programmer intends to use the data. Python supports the following Python data types:\n",
        "                        1. Numbers\n",
        "                        2. Strings\n",
        "                        3. Boolean\n",
        "                        4. Lists\n",
        "                        5. Tuples\n",
        "                        6. Dictionaries\n",
        "                        7. Sets\n",
        "      \n",
        "\n"
      ]
    },
    {
      "cell_type": "markdown",
      "metadata": {
        "id": "IZJAzajfWwOF"
      },
      "source": [
        "<a id=\"num\"> </a>\n",
        "### Python Numbers\n",
        "There are four numeric Python data type:<br>\n",
        "a. int (signed integers)<br>\n",
        "b. float (floating point real values)<br>\n",
        "c. long (long integers, they can also be represented in octal and hexadecimal)<br>\n",
        "d. complex (complex numbers)\n",
        "\n",
        "<table>\n",
        "  <tr>\n",
        "  <th>int</th>\n",
        "  <th>float</th>\n",
        "  <th>long</th>\n",
        "  <th>complex</th>\n",
        "  </tr>\n",
        "  <tr>\n",
        "  <td>10</td>\n",
        "  <td>54.4</td>\n",
        "  <td>012345L</td>\n",
        "  <td>2+5j</td>  \n",
        "  </tr>\n",
        "  <tr>\n",
        "  <td>70</td>\n",
        "  <td>0.01</td>\n",
        "  <td>-987652L</td>\n",
        "  <td>1.18j</td>\n",
        "  </tr>\n",
        "  <tr>\n",
        "  <td>-150</td>\n",
        "  <td>1.626e16</td>\n",
        "  <td>10000000000000000</td>\n",
        "  <td>-10j</td>\n",
        "  </tr>\n",
        "  <tr>\n",
        "  <td>0x69</td>\n",
        "  <td>74.15</td>\n",
        "  <td>-4335685298777L</td>\n",
        "  <td>45j</td>\n",
        "  </tr>\n",
        "  <tr>\n",
        "  <td>-0x260</td>\n",
        "  <td>89.33</td>\n",
        "  <td>0348L\t</td>\n",
        "  <td>3e+26J</td>\n",
        "  </tr>\n",
        "</table>"
      ]
    },
    {
      "cell_type": "markdown",
      "metadata": {
        "id": "U6hFAQM8WwOF"
      },
      "source": [
        "#### int\n",
        "'int' stands for integer. This Python Data Type holds signed integers. We can use the type() function to find which class it belongs to."
      ]
    },
    {
      "cell_type": "code",
      "execution_count": null,
      "metadata": {
        "id": "gD08tb_oWwOG"
      },
      "outputs": [],
      "source": [
        "a = -5\n",
        "type(a)"
      ]
    },
    {
      "cell_type": "code",
      "execution_count": null,
      "metadata": {
        "id": "9TEUZuKzWwOJ"
      },
      "outputs": [],
      "source": [
        "x = 1000\n",
        "type(a)"
      ]
    },
    {
      "cell_type": "markdown",
      "metadata": {
        "id": "kcwZsEBnWwOL"
      },
      "source": [
        "#### float"
      ]
    },
    {
      "cell_type": "code",
      "execution_count": null,
      "metadata": {
        "id": "gzRxX7LwWwOL"
      },
      "outputs": [],
      "source": [
        "a = 1.1\n",
        "type(a)"
      ]
    },
    {
      "cell_type": "code",
      "execution_count": null,
      "metadata": {
        "id": "kxQhtfexWwON"
      },
      "outputs": [],
      "source": [
        "x = -3.14\n",
        "type(x)"
      ]
    },
    {
      "cell_type": "code",
      "execution_count": null,
      "metadata": {
        "id": "yvZHGCMZWwOP"
      },
      "outputs": [],
      "source": [
        "y = 1.626e16\n",
        "type(y)"
      ]
    },
    {
      "cell_type": "markdown",
      "metadata": {
        "id": "FSSMkUsYWwOQ"
      },
      "source": [
        "#### long"
      ]
    },
    {
      "cell_type": "code",
      "execution_count": null,
      "metadata": {
        "id": "D4mAkQ29WwOR"
      },
      "outputs": [],
      "source": [
        "x =999999999999999999999999999999999999999999999\n",
        "type(x)"
      ]
    },
    {
      "cell_type": "markdown",
      "metadata": {
        "id": "KUu1KWCuWwOT"
      },
      "source": [
        "This construct does not exist in Python 3.x."
      ]
    },
    {
      "cell_type": "markdown",
      "metadata": {
        "id": "apmbFzZHWwOT"
      },
      "source": [
        "#### complex"
      ]
    },
    {
      "cell_type": "code",
      "execution_count": null,
      "metadata": {
        "id": "gp5-Bm5MWwOU"
      },
      "outputs": [],
      "source": [
        "x = 3+4j\n",
        "type(x)"
      ]
    },
    {
      "cell_type": "code",
      "execution_count": null,
      "metadata": {
        "id": "tgyMwLLCWwOW"
      },
      "outputs": [],
      "source": [
        "y = 3e+4j\n",
        "type(y)"
      ]
    },
    {
      "cell_type": "markdown",
      "metadata": {
        "id": "T41pYrW8WwOX"
      },
      "source": [
        "<a id=\"str\"> </a>\n",
        "### Python Strings"
      ]
    },
    {
      "cell_type": "markdown",
      "metadata": {
        "id": "RSA1gdoeWwOY"
      },
      "source": [
        "A string is a sequence of characters. Python does not have a <em>char</em> data type, unlike C++ or Java. You can delimit a string using single quotes('string') or double-quotes(\"string\")."
      ]
    },
    {
      "cell_type": "code",
      "execution_count": null,
      "metadata": {
        "id": "XrVRb1yqWwOY"
      },
      "outputs": [],
      "source": [
        "string = \"Introduction to Python\"\n",
        "string"
      ]
    },
    {
      "cell_type": "markdown",
      "metadata": {
        "id": "xX5bTc8aWwOa"
      },
      "source": [
        "The plus (+) sign is the string concatenation operator and the asterisk (*) is the repetition operator."
      ]
    },
    {
      "cell_type": "code",
      "execution_count": null,
      "metadata": {
        "id": "I7T09aV_WwOb"
      },
      "outputs": [],
      "source": [
        "str1 = \"Great\"\n",
        "str2 = \"Learning\"\n",
        "str3 = str1+str2\n",
        "str3                      # Prints concatenated string"
      ]
    },
    {
      "cell_type": "code",
      "execution_count": null,
      "metadata": {
        "id": "YgJ_RdB_WwOd"
      },
      "outputs": [],
      "source": [
        "str3*3                    # Prints string three times"
      ]
    },
    {
      "cell_type": "markdown",
      "metadata": {
        "id": "EffJINZpWwOf"
      },
      "source": [
        "You cannot use the minus(-) operator and the division(/) operator on strings."
      ]
    },
    {
      "cell_type": "markdown",
      "metadata": {
        "id": "D3D5pz2TWwOf"
      },
      "source": [
        "Subsets of strings can be taken using the slice operator ([ ]). You can display a character from a string using its index in the string. Remember, indexing starts with 0."
      ]
    },
    {
      "cell_type": "code",
      "execution_count": null,
      "metadata": {
        "id": "FcOZ-f9SWwOh"
      },
      "outputs": [],
      "source": [
        "string[5]                 # Prints sixth character of the string"
      ]
    },
    {
      "cell_type": "markdown",
      "metadata": {
        "id": "rmacECWIWwOj"
      },
      "source": [
        "You can also display a burst of characters in a string using the slicing operator with indexes starting at 0 in the beginning of the string and working their way from -1 at the end."
      ]
    },
    {
      "cell_type": "code",
      "execution_count": null,
      "metadata": {
        "id": "JDHvadR_WwOj"
      },
      "outputs": [],
      "source": [
        "string[13:22]             # Prints characters starting from 14th to 21st character"
      ]
    },
    {
      "cell_type": "markdown",
      "metadata": {
        "id": "lqGsgw_6WwOl"
      },
      "source": [
        "Strings are <em>immutable</em>. The following line of code will generate an error"
      ]
    },
    {
      "cell_type": "code",
      "execution_count": null,
      "metadata": {
        "id": "SGqCKsZBWwOl"
      },
      "outputs": [],
      "source": [
        "string[0] = 'P'"
      ]
    },
    {
      "cell_type": "markdown",
      "metadata": {
        "id": "pfuknDsgF9Rn"
      },
      "source": [
        "<a id=\"bool\"> </a>\n",
        "### Python Boolean\n",
        "In Python programming language, the Boolean datatype is a primitive datatype having one of two values: **True** or **False**. It is often a result of some conditions"
      ]
    },
    {
      "cell_type": "code",
      "execution_count": null,
      "metadata": {
        "id": "MZWZ-vhsF9Ro"
      },
      "outputs": [],
      "source": [
        "var = True\n",
        "type(var)"
      ]
    },
    {
      "cell_type": "code",
      "execution_count": null,
      "metadata": {
        "id": "-tO6lz15F9Rs"
      },
      "outputs": [],
      "source": [
        "print(10 > 9)"
      ]
    },
    {
      "cell_type": "code",
      "execution_count": null,
      "metadata": {
        "id": "uY2vZtqyF9Ru"
      },
      "outputs": [],
      "source": [
        "print(10 == 9)"
      ]
    },
    {
      "cell_type": "code",
      "execution_count": null,
      "metadata": {
        "id": "jGgdNUGJF9Rw"
      },
      "outputs": [],
      "source": [
        "print(10 < 9)"
      ]
    },
    {
      "cell_type": "code",
      "source": [
        "mychild=['roka','mouse','asia']\n",
        "if 'Roka' in mychild:\n",
        "  print ('right')"
      ],
      "metadata": {
        "id": "-MMMlTFq5Ybv"
      },
      "execution_count": null,
      "outputs": []
    },
    {
      "cell_type": "markdown",
      "metadata": {
        "id": "EVRWwplyWwPK"
      },
      "source": [
        "<a id=\"typecon\"> </a>\n",
        "## Type Conversion\n",
        "Since Python is dynamically-typed, you may want to convert a value into another type. Python supports different type conversion functions like int(), float(), str() etc."
      ]
    },
    {
      "cell_type": "markdown",
      "metadata": {
        "id": "boCcUiw1WwPK"
      },
      "source": [
        "#### float()\n",
        "It converts the passed value into a float."
      ]
    },
    {
      "cell_type": "code",
      "execution_count": null,
      "metadata": {
        "id": "rs0NOMBhWwPK"
      },
      "outputs": [],
      "source": [
        "float(11)"
      ]
    },
    {
      "cell_type": "markdown",
      "metadata": {
        "id": "hz5JQDNDWwPM"
      },
      "source": [
        "You can turn a Boolean into an float."
      ]
    },
    {
      "cell_type": "code",
      "execution_count": null,
      "metadata": {
        "id": "f7ha7y1HWwPM"
      },
      "outputs": [],
      "source": [
        "float (True)"
      ]
    },
    {
      "cell_type": "code",
      "execution_count": null,
      "metadata": {
        "id": "yGg2az2cWwPN"
      },
      "outputs": [],
      "source": [
        "float(False)"
      ]
    },
    {
      "cell_type": "markdown",
      "metadata": {
        "id": "0-kWsn3OWwPP"
      },
      "source": [
        "You cannot turn a string into an float. It throws an error. However, if the string has only numbers, then you can."
      ]
    },
    {
      "cell_type": "code",
      "execution_count": null,
      "metadata": {
        "id": "VXcZNILHWwPP"
      },
      "outputs": [],
      "source": [
        "float(\"abc\")"
      ]
    },
    {
      "cell_type": "code",
      "execution_count": null,
      "metadata": {
        "id": "RobCesd6WwPQ"
      },
      "outputs": [],
      "source": [
        "float(\"11\")"
      ]
    },
    {
      "cell_type": "code",
      "execution_count": null,
      "metadata": {
        "id": "YAl_VbkJWwPR"
      },
      "outputs": [],
      "source": [
        "#You can also use ‘e’ to denote an exponential number\n",
        "\n",
        "float(\"2.24e-2\")           #this number works even without the float() function"
      ]
    },
    {
      "cell_type": "markdown",
      "metadata": {
        "id": "ECm0OUL8WwPS"
      },
      "source": [
        "#### int"
      ]
    },
    {
      "cell_type": "markdown",
      "metadata": {
        "id": "PkU5JhzOWwPT"
      },
      "source": [
        "Conversion from float to int will round-off the value (make it closer to zero)."
      ]
    },
    {
      "cell_type": "code",
      "execution_count": null,
      "metadata": {
        "id": "D4zY6JVOWwPT"
      },
      "outputs": [],
      "source": [
        "int(11.7)"
      ]
    },
    {
      "cell_type": "code",
      "execution_count": null,
      "metadata": {
        "id": "8jyuaJh6WwPU"
      },
      "outputs": [],
      "source": [
        "int(-11.7)"
      ]
    },
    {
      "cell_type": "markdown",
      "metadata": {
        "id": "fhMAZgkhWwPV"
      },
      "source": [
        " You can also turn a Boolean into an int."
      ]
    },
    {
      "cell_type": "code",
      "execution_count": null,
      "metadata": {
        "id": "kMzj0ZoKWwPV"
      },
      "outputs": [],
      "source": [
        "int(True)"
      ]
    },
    {
      "cell_type": "code",
      "execution_count": null,
      "metadata": {
        "id": "kNhtLwoLWwPW"
      },
      "outputs": [],
      "source": [
        "int(False)"
      ]
    },
    {
      "cell_type": "markdown",
      "metadata": {
        "id": "fFIzQUxDWwPb"
      },
      "source": [
        "You cannot turn a string into an int. It throws an error. However, if the string has only numbers, then you can."
      ]
    },
    {
      "cell_type": "code",
      "execution_count": null,
      "metadata": {
        "id": "a1_NU2oRWwPb"
      },
      "outputs": [],
      "source": [
        "int(\"GL\")"
      ]
    },
    {
      "cell_type": "code",
      "execution_count": null,
      "metadata": {
        "id": "NxvVDVzDWwPd"
      },
      "outputs": [],
      "source": [
        "int(\"11\")"
      ]
    },
    {
      "cell_type": "markdown",
      "metadata": {
        "id": "AxKlwSvEWwPe"
      },
      "source": [
        "#### str()\n",
        "<em>str()</em> converts the value into a string."
      ]
    },
    {
      "cell_type": "code",
      "execution_count": null,
      "metadata": {
        "id": "msQLpozMWwPi"
      },
      "outputs": [],
      "source": [
        "str(2.24)"
      ]
    },
    {
      "cell_type": "code",
      "execution_count": null,
      "metadata": {
        "id": "e2YVfksDWwPj"
      },
      "outputs": [],
      "source": [
        "str(True)"
      ]
    },
    {
      "cell_type": "code",
      "execution_count": null,
      "metadata": {
        "id": "RgXqM5RxWwPk"
      },
      "outputs": [],
      "source": [
        "str(False)"
      ]
    },
    {
      "cell_type": "code",
      "execution_count": null,
      "metadata": {
        "id": "owVkbQJDWwPm"
      },
      "outputs": [],
      "source": [
        "str(10)"
      ]
    },
    {
      "cell_type": "markdown",
      "metadata": {
        "id": "NeztNGtGWwP5"
      },
      "source": [
        "<a id=\"print\"> </a>\n",
        "## Python print()"
      ]
    },
    {
      "cell_type": "markdown",
      "metadata": {
        "id": "qqrDXHxnWwP5"
      },
      "source": [
        "\n",
        "                    Syntax:\n",
        "                         print(*objects, sep=' ', end='\\n', file=sys.stdout, flush=False)\n",
        "                    print() Parameters:\n",
        "                    **objects** - object to be printed. * indicates that there may be more than one object\n",
        "sep - objects are separated by sep. Default value: ' '<br>\n",
        "end - end is printed at last\n",
        "file - must be an object with write(string) method. If omitted it, sys.stdout will be used which prints objects on the screen.\n",
        "flush - If True, the stream is forcibly flushed. Default value: False<br><br>\n",
        "                \n"
      ]
    },
    {
      "cell_type": "code",
      "execution_count": null,
      "metadata": {
        "id": "_V7qmGSkWwP6"
      },
      "outputs": [],
      "source": [
        "print(\"Hello World\")"
      ]
    },
    {
      "cell_type": "code",
      "execution_count": null,
      "metadata": {
        "id": "mNLpxl-4WwP9"
      },
      "outputs": [],
      "source": [
        "#initialize a variable\n",
        "x = 2\n",
        "print(\"x =\", x)              # Here we pass two objects"
      ]
    },
    {
      "cell_type": "markdown",
      "metadata": {
        "id": "6CUwLRcBWwP-"
      },
      "source": [
        "Only object parameter is passed in the above print() function"
      ]
    },
    {
      "cell_type": "markdown",
      "metadata": {
        "id": "XAcxCb-sWwP-"
      },
      "source": [
        "#### print() with separator and end parameters\n",
        "By default, python's print() function ends with a newline. This function comes with a parameter called 'end.' The default value of this parameter is '\\n,' i.e., the new line character. You can end a print statement with any character or string using this parameter.<br>\n",
        "Sometimes you need to print one blank line in your Python program."
      ]
    },
    {
      "cell_type": "code",
      "execution_count": null,
      "metadata": {
        "id": "4QU2h8bsWwP_"
      },
      "outputs": [],
      "source": [
        "x = 2\n",
        "a = 8\n",
        "print(\"x =\", x, end='\\n\\n\\n')\n",
        "print(\"a =\", 8, end = 'j')"
      ]
    },
    {
      "cell_type": "markdown",
      "metadata": {
        "id": "hoZ-xQxJWwQA"
      },
      "source": [
        "Objects will be separated with what the <em>sep</em> parameter is set to"
      ]
    },
    {
      "cell_type": "code",
      "execution_count": null,
      "metadata": {
        "id": "qqCg0AU6WwQA"
      },
      "outputs": [],
      "source": [
        "x = 2\n",
        "a = 8\n",
        "print(\"x =\", x, sep='$$')\n",
        "print(\"a =\", 8, sep = 'j')"
      ]
    },
    {
      "cell_type": "markdown",
      "metadata": {
        "id": "MnsdtyNjWwQB"
      },
      "source": [
        "<a id=\"uinput\"> </a>\n",
        "## User Input\n",
        "\n",
        "\n"
      ]
    },
    {
      "cell_type": "markdown",
      "metadata": {
        "id": "N4He5BZIWwQE"
      },
      "source": [
        "The Python input() function is used to read data from a standard input such as a keyboard and treats the received data as string. Basically, when we enter digit value, input() in python 3 stores it as string value. So to convert string value to integer value, we will use int() function just as shown below."
      ]
    },
    {
      "cell_type": "code",
      "execution_count": null,
      "metadata": {
        "id": "WIai9bzpWwQE"
      },
      "outputs": [],
      "source": [
        "age = int(input(\"Please enter your age: \"))\n",
        "print(age)\n",
        "type(age)"
      ]
    },
    {
      "cell_type": "code",
      "execution_count": null,
      "metadata": {
        "id": "DHy3Eo3KWwQF"
      },
      "outputs": [],
      "source": [
        "name = input(\"Please enter your name: \")\n",
        "print(name)\n",
        "type(name)"
      ]
    },
    {
      "cell_type": "markdown",
      "metadata": {
        "id": "Wev9Kx6-WwQH"
      },
      "source": [
        "When <em>input()</em> function executes program flow will be stopped until the user has given an input. The message displayed on the output screen to ask a user to enter input value is optional i.e. the prompt, will be printed on the screen is optional.\n",
        "Whatever you enter as input, input function convert it into a string. if you enter an integer value still input() function convert it into a string. You need to explicitly convert it into an integer in your code using typecasting."
      ]
    },
    {
      "cell_type": "markdown",
      "metadata": {
        "id": "TgPxKm5oWwQH"
      },
      "source": [
        "<a id=\"oper\"> </a>\n",
        "## Python Operators\n",
        "\n"
      ]
    },
    {
      "cell_type": "markdown",
      "metadata": {
        "id": "-Ta6RTyDWwQI"
      },
      "source": [
        "<a id=\"arith\"> </a>\n",
        "### Arithmetic Operator\n",
        "Arithmetic operators are used to perform mathematical operations like addition, subtraction, multiplication etc."
      ]
    },
    {
      "cell_type": "code",
      "execution_count": null,
      "metadata": {
        "id": "Q-pEFy-BWwQI"
      },
      "outputs": [],
      "source": [
        "a = 12\n",
        "b = 2\n",
        "# '+' Operator\n",
        "print('a + b =',a+b)                  # Prints addition of a and b\n",
        "\n",
        "# '-' Operator\n",
        "print('a - b =',a-b)                  # Prints subtraction of  a and b\n",
        "\n",
        "# '*' Operator\n",
        "print('a * b =',a*b)                  # Prints multiplication of  a and b\n",
        "\n",
        "# '%' Operator\n",
        "print('a % b =',a%b)                  # Prints remainder of division between a and b\n",
        "\n",
        "# '/' Operator\n",
        "print('a / b =',a/b)                  # Prints division of  a and b\n",
        "\n",
        "# '//' Operator\n",
        "print('a // b =',a//b)                # Prints the interger value of the division between a and b\n",
        "\n",
        "# '**' Operator\n",
        "print('a ** b =',a**b)                # Prints the result of a to the power b\n"
      ]
    },
    {
      "cell_type": "markdown",
      "metadata": {
        "id": "5E-kgOQyWwQJ"
      },
      "source": [
        "<a id=\"comp\"> </a>\n",
        "### Comparison Operator\n",
        "Comparison Operator carries out the comparison between operands. They tell us whether an operand is greater than the other, lesser, equal, or a combination of those. It either returns <em>True</em> or <em>False</em> according to the condition."
      ]
    },
    {
      "cell_type": "code",
      "execution_count": null,
      "metadata": {
        "id": "ei8_yWjXWwQJ"
      },
      "outputs": [],
      "source": [
        "a = 10\n",
        "b = 20\n",
        "\n",
        "# '>' Operator\n",
        "print('a > b  is',a>b)                 # Prints False since a is smaller than b\n",
        "\n",
        "# '<' Operator\n",
        "print('a < b  is',a<b)                 # Prints True since a is smaller than b\n",
        "\n",
        "# '==' Operator\n",
        "print('a == b  is',a==b)                 # Prints False since a and b are not equal\n",
        "\n",
        "# '!=' Operator\n",
        "print('a != b  is',a!=b)                 # Prints True since a is not equal to b\n",
        "\n",
        "# '>=' Operator\n",
        "print('a >= b  is',a>=b)                 # Prints False since a is not smaller nor equal to b\n",
        "\n",
        "# '<= y' Operator\n",
        "print('a <= b  is',a<=b)                 # Prints True since a is smaller than b"
      ]
    },
    {
      "cell_type": "markdown",
      "metadata": {
        "id": "DHAWZfnRWwQL"
      },
      "source": [
        "<a id=\"assign\"> </a>\n",
        "### Assignment Operator\n",
        "An assignment operator assigns a value to a variable. It may manipulate the value by a factor before assigning it."
      ]
    },
    {
      "cell_type": "code",
      "execution_count": null,
      "metadata": {
        "id": "7WeHVcSIWwQL"
      },
      "outputs": [],
      "source": [
        "# '=' Operator\n",
        "x = 5                                 # Assigns the value to the variable on the left\n",
        "print(\"x = \", x)\n",
        "\n",
        "# '+=' Operator\n",
        "x += 5\n",
        "print(\"Updated value of x after (x += 5) is\", x)     # Adds the values on either side and assigns it to the expression on the left. x+=5 is the same as x=x+5.\n",
        "\n",
        "# '-=' Operator\n",
        "x -=2\n",
        "print(\"Updated value of x after (x -=2) is\", x)     # Subtracts 2 from the latest value of x and assigns it to x(which is 10).\n",
        "\n",
        "# '*=' Operator\n",
        "x *= 2\n",
        "print(\"Updated value of x after (x *= 2) is\", x)     # Multiplies the current value of x with 2 and assigns the result to the same variable\n",
        "\n",
        "# '/=' Operator\n",
        "x /= 4\n",
        "print('Updated value of x after (x /= 4) is', x)     # Divides the current value of x with 4 and assigns the result to the same variable\n"
      ]
    },
    {
      "cell_type": "markdown",
      "metadata": {
        "id": "KhOFmuWmWwQM"
      },
      "source": [
        "<em>i+=1 is the same as i=i+1, whereas i=+1 just means i=(+1)</em>"
      ]
    },
    {
      "cell_type": "markdown",
      "metadata": {
        "id": "OeuiSmbLWwQM"
      },
      "source": [
        "<a id=\"logic\"> </a>\n",
        "### Logical Operators\n",
        "Logical operators are like conjunctions that you can use to combine more than one condition. We have three Python logical operator – **<em>and</em>**, **<em>or</em>**, and **<em>not</em>** that come under python operators."
      ]
    },
    {
      "cell_type": "markdown",
      "metadata": {
        "id": "_8T3z6drWwQM"
      },
      "source": [
        "#### 'and' Operator\n",
        "If the conditions on both the sides of the operator are true, then the expression as a whole is true."
      ]
    },
    {
      "cell_type": "code",
      "execution_count": null,
      "metadata": {
        "id": "vvanF5POWwQM"
      },
      "outputs": [],
      "source": [
        "x = 11\n",
        "a = x>10 and x<20\n",
        "print(a)"
      ]
    },
    {
      "cell_type": "markdown",
      "metadata": {
        "id": "moUtA-A7WwQN"
      },
      "source": [
        "Here both the conditions are satisfied. Therefore we have True as the output."
      ]
    },
    {
      "cell_type": "code",
      "execution_count": null,
      "metadata": {
        "id": "vCxHTtWpWwQN"
      },
      "outputs": [],
      "source": [
        "x = 11\n",
        "a = x>10 and x==12\n",
        "print(a)"
      ]
    },
    {
      "cell_type": "markdown",
      "metadata": {
        "id": "_JFu5BW1WwQO"
      },
      "source": [
        "Here one of the condition is not satisfied. Therefore we have False as the output."
      ]
    },
    {
      "cell_type": "markdown",
      "metadata": {
        "id": "ZJaxiiqkWwQO"
      },
      "source": [
        "#### 'or' Operator\n",
        "The expression is false only if both the statements around the operator are false. Otherwise, it is true."
      ]
    },
    {
      "cell_type": "code",
      "execution_count": null,
      "metadata": {
        "id": "96UjEwpGWwQO"
      },
      "outputs": [],
      "source": [
        "x = 11\n",
        "a = x>10 or x==20\n",
        "print(a)"
      ]
    },
    {
      "cell_type": "markdown",
      "metadata": {
        "id": "8veZvQOoWwQP"
      },
      "source": [
        "Here one of the condition is satisfied. Therefore we have True as the output."
      ]
    },
    {
      "cell_type": "code",
      "execution_count": null,
      "metadata": {
        "id": "uVnlov7rWwQP"
      },
      "outputs": [],
      "source": [
        "x = 11\n",
        "a = x>12 or x==20\n",
        "print(a)"
      ]
    },
    {
      "cell_type": "markdown",
      "metadata": {
        "id": "WZFPqv9AWwQQ"
      },
      "source": [
        "None of the above condition is True. Therefore we have False as the output"
      ]
    },
    {
      "cell_type": "code",
      "execution_count": null,
      "metadata": {
        "id": "JCv174TQWwQi"
      },
      "outputs": [],
      "source": []
    },
    {
      "cell_type": "markdown",
      "metadata": {
        "collapsed": true,
        "id": "95NkpfyFr6mq",
        "jupyter": {
          "outputs_hidden": true
        }
      },
      "source": [
        "## Table of Content\n",
        "\n",
        "1. **[Introduction to List]**"
      ]
    },
    {
      "cell_type": "markdown",
      "metadata": {
        "id": "7Ki6x4JFr6mt"
      },
      "source": [
        "<a id=\"list\"> </a>\n",
        "## 1. Introduction to List\n"
      ]
    },
    {
      "cell_type": "markdown",
      "metadata": {
        "id": "eit6jEBtr6mu"
      },
      "source": [
        "### Constructing Lists\n",
        "\n",
        "To create a list, use square brackets [ ] and separate items in the list with commas.\n",
        "A list can be empty or contain any number of items with different data types (integers, float, strings, etc.)"
      ]
    },
    {
      "cell_type": "code",
      "execution_count": null,
      "metadata": {
        "id": "rG7B7b8-r6mv"
      },
      "outputs": [],
      "source": [
        "# create a empty list\n",
        "empty_list = []\n",
        "empty_list"
      ]
    },
    {
      "cell_type": "markdown",
      "metadata": {
        "id": "7ShZqy0wr6mx"
      },
      "source": [
        "**Note : A list can also hold another list as an item, these are called nested lists**"
      ]
    },
    {
      "cell_type": "code",
      "execution_count": null,
      "metadata": {
        "id": "a7GdLgTsr6mx"
      },
      "outputs": [],
      "source": [
        "# nested list\n",
        "my_list = [['Data Science','Machine Learning'],[135,232,321]]\n",
        "my_list"
      ]
    },
    {
      "cell_type": "markdown",
      "metadata": {
        "id": "Xgsf-t9Jr6my"
      },
      "source": [
        "### Acessing Elements in a List\n",
        "You can access the list items by referring to the index number"
      ]
    },
    {
      "cell_type": "markdown",
      "metadata": {
        "id": "VE8qXBSLr6my"
      },
      "source": [
        "**Indexing:**<br>\n",
        "We use the index operator [ ]. Each item in a list has an assigned index value. Note that the index starts from 0 in python and must be an integer"
      ]
    },
    {
      "cell_type": "markdown",
      "metadata": {
        "id": "6T3-dOV6r6mz"
      },
      "source": [
        "Print the second item of the list"
      ]
    },
    {
      "cell_type": "code",
      "execution_count": null,
      "metadata": {
        "id": "5tifd6BLr6mz"
      },
      "outputs": [],
      "source": [
        "# define a list\n",
        "course = ['data science', 'machine learning', 'python', 'html', 'big data' ]\n",
        "\n",
        "# access the second item of a list at index 1\n",
        "print(course[1])"
      ]
    },
    {
      "cell_type": "markdown",
      "metadata": {
        "id": "m_NcEOgfr6m0"
      },
      "source": [
        "**Negative Indexing**:<br>\n",
        "Negative indexing means beginning from the end, -1 refers to the last item, -2 refers to the second last item"
      ]
    },
    {
      "cell_type": "markdown",
      "metadata": {
        "id": "Rm0oNuOrr6m0"
      },
      "source": [
        "Print the second last item of the list"
      ]
    },
    {
      "cell_type": "code",
      "execution_count": null,
      "metadata": {
        "id": "frZ2-HJqr6m1"
      },
      "outputs": [],
      "source": [
        "# define a list\n",
        "course = ['data science', 'machine learning', 'python', 'html', 'big data' ]\n",
        "\n",
        "# access the second item of a list at index -2\n",
        "print(course[-2])"
      ]
    },
    {
      "cell_type": "markdown",
      "metadata": {
        "id": "FVbHyjOxr6m1"
      },
      "source": [
        "### Slicing of a List\n",
        "List uses the slicing operator : (colon) to extract part of the sequence"
      ]
    },
    {
      "cell_type": "markdown",
      "metadata": {
        "id": "2pokuglIr6m1"
      },
      "source": [
        "Return first three elements from the list"
      ]
    },
    {
      "cell_type": "code",
      "execution_count": null,
      "metadata": {
        "id": "i124R6gIr6m1"
      },
      "outputs": [],
      "source": [
        "# define a list\n",
        "course = ['data science', 'machine learning', 'python', 'html', 'big data' ]\n",
        "\n",
        "# print first three element from the list\n",
        "course[:3]"
      ]
    },
    {
      "cell_type": "markdown",
      "metadata": {
        "id": "dTdR4yZQr6m2"
      },
      "source": [
        "Select elements from beginning to end"
      ]
    },
    {
      "cell_type": "code",
      "execution_count": null,
      "metadata": {
        "id": "3j3LJB5Nr6m2"
      },
      "outputs": [],
      "source": [
        "# define a list\n",
        "course = ['data science', 'machine learning', 'python', 'html', 'big data' ]\n",
        "\n",
        "# print the all elements\n",
        "course[:]"
      ]
    },
    {
      "cell_type": "markdown",
      "metadata": {
        "id": "C7Nsbjrvr6m2"
      },
      "source": [
        "If all three start , stop, and step are provided, it generates portion of sequence after index start till stop with increment of index step"
      ]
    },
    {
      "cell_type": "code",
      "execution_count": null,
      "metadata": {
        "id": "m7Ys6bYsr6m2"
      },
      "outputs": [],
      "source": [
        "a = [1,2,3,4,5,6,7,8,9,10]\n",
        "print(a[2:7:2])"
      ]
    },
    {
      "cell_type": "markdown",
      "metadata": {
        "id": "xuoLU4rYr6m2"
      },
      "source": [
        "### Change Item Value\n",
        "Refer the index number to change the value of a specific item"
      ]
    },
    {
      "cell_type": "code",
      "execution_count": null,
      "metadata": {
        "id": "QFtc2_oBr6m3"
      },
      "outputs": [],
      "source": [
        "# define a list\n",
        "course = ['data science', 'machine learning', 'python', 'html', 'big data' ]\n",
        "\n",
        "# change the third item\n",
        "course[3] = 'statistics'\n",
        "\n",
        "course"
      ]
    },
    {
      "cell_type": "markdown",
      "metadata": {
        "id": "cXroEdaWr6m3"
      },
      "source": [
        "### List Methods\n",
        "Python has a set of built-in methods that you can use on lists and arrays"
      ]
    },
    {
      "cell_type": "markdown",
      "metadata": {
        "id": "mN65fhj0r6m3"
      },
      "source": [
        "Python has built-in methods that you can use on list:<br>\n",
        "append()<br>\n",
        "insert()<br>\n",
        "extend()<br>\n",
        "del <br>\n",
        "remove()<br>\n",
        "pop()<br>\n",
        "reverse()<br>"
      ]
    },
    {
      "cell_type": "markdown",
      "metadata": {
        "id": "Mn8VrJW7r6m3"
      },
      "source": [
        "**list.append(item)**<br>\n",
        "The method list.append(item) will add the element at the end of a list"
      ]
    },
    {
      "cell_type": "code",
      "execution_count": null,
      "metadata": {
        "id": "52AI8CsMr6m4"
      },
      "outputs": [],
      "source": [
        "# define a list\n",
        "course1 = ['data science', 'machine learning', 'python', 'html', 'big data' ]\n",
        "\n",
        "course2 = ['statistics']\n",
        "\n",
        "# add element to the list\n",
        "course1.append(course2)\n",
        "course1"
      ]
    },
    {
      "cell_type": "markdown",
      "metadata": {
        "id": "yKh78gQdr6m4"
      },
      "source": [
        "**list.insert(i, item)**<br>\n",
        "This method will insert an element at the ith index in a list"
      ]
    },
    {
      "cell_type": "code",
      "execution_count": null,
      "metadata": {
        "id": "B3fgLwi6r6m5"
      },
      "outputs": [],
      "source": [
        "# define a list\n",
        "course = ['data science', 'machine learning', 'python', 'html', 'big data' ]\n",
        "\n",
        "# insert element at 2nd index in a list\n",
        "course.insert(2, 'statistics')\n",
        "course"
      ]
    },
    {
      "cell_type": "markdown",
      "metadata": {
        "id": "zPUWMc2Mr6m5"
      },
      "source": [
        "**list.extend(items)**<br>\n",
        "The extend method concatenates lists"
      ]
    },
    {
      "cell_type": "code",
      "execution_count": null,
      "metadata": {
        "id": "tui-TbGrr6m5"
      },
      "outputs": [],
      "source": [
        "# define a first list\n",
        "course1 = ['data science', 'machine learning', 'python', 'html', 'big data']\n",
        "\n",
        "# define a second list\n",
        "course2 = ['artificial intelligence']\n",
        "\n",
        "# concatenate the list\n",
        "course1.extend(course2)\n",
        "\n",
        "course1"
      ]
    },
    {
      "cell_type": "markdown",
      "metadata": {
        "id": "Hv6lwcLrr6m6"
      },
      "source": [
        "**Deleting List Elements**<br>\n",
        "Use the del keywords to delete an item at specific index"
      ]
    },
    {
      "cell_type": "code",
      "execution_count": null,
      "metadata": {
        "id": "MUnEFGdmr6m6"
      },
      "outputs": [],
      "source": [
        "# define a first list\n",
        "course = ['data science', 'machine learning', 'python', 'html', 'big data' ]\n",
        "\n",
        "# delete the third element from the list\n",
        "del course[2]\n",
        "\n",
        "# print the output\n",
        "course"
      ]
    },
    {
      "cell_type": "markdown",
      "metadata": {
        "id": "cRxZe_tur6m7"
      },
      "source": [
        "**list.remove(item)**<br>\n",
        "It will search and remove only the first occurrence of an item"
      ]
    },
    {
      "cell_type": "code",
      "execution_count": null,
      "metadata": {
        "id": "egqJ15oQr6m7"
      },
      "outputs": [],
      "source": [
        "# define a first list\n",
        "course = ['data science', 'machine learning', 'python', 'html', 'big data', 'html' ]\n",
        "\n",
        "course.remove('html')\n",
        "\n",
        "course"
      ]
    },
    {
      "cell_type": "markdown",
      "metadata": {
        "id": "QbMf5pM1r6m8"
      },
      "source": [
        "**list.pop()**<br>\n",
        "Removes and returns the last item of a list"
      ]
    },
    {
      "cell_type": "code",
      "execution_count": null,
      "metadata": {
        "id": "yJtByhJFr6m8"
      },
      "outputs": [],
      "source": [
        "# define a first list\n",
        "course = ['data science', 'machine learning', 'python', 'html', 'big data', 'html' ]\n",
        "\n",
        "course.pop()"
      ]
    },
    {
      "cell_type": "markdown",
      "metadata": {
        "id": "HZBBc8Z-r6m8"
      },
      "source": [
        "**list.reverse()**<br>\n",
        "The reverse() method reverses the sorting order of the elements"
      ]
    },
    {
      "cell_type": "code",
      "execution_count": null,
      "metadata": {
        "id": "FzGnkB5qr6m8"
      },
      "outputs": [],
      "source": [
        "# define a first list\n",
        "course = ['data science', 'machine learning', 'python', 'html', 'big data', 'html' ]\n",
        "\n",
        "course.reverse()\n",
        "\n",
        "course"
      ]
    },
    {
      "cell_type": "markdown",
      "metadata": {
        "id": "hJa24XY3r6m9"
      },
      "source": [
        "### Common List Operations"
      ]
    },
    {
      "cell_type": "markdown",
      "metadata": {
        "id": "4ZGNxJL4r6m9"
      },
      "source": [
        "**Concatenation(+)**<br>\n",
        "Concatenation uses the + Operator. It combines lists"
      ]
    },
    {
      "cell_type": "code",
      "execution_count": null,
      "metadata": {
        "id": "3asLHngNr6m9"
      },
      "outputs": [],
      "source": [
        "# define a first list\n",
        "course1 = ['data science', 'machine learning', 'python', 'html', 'big data' ]\n",
        "\n",
        "# define a second list\n",
        "course2 = ['artificial intelligence']\n",
        "\n",
        "# concatenate the list\n",
        "course1 + course2"
      ]
    },
    {
      "cell_type": "markdown",
      "metadata": {
        "id": "UPPAX27Zr6m-"
      },
      "source": [
        "**Repetition(*)**<br>\n",
        "Uses the * Operator. Concatenates a list a repeated number of times"
      ]
    },
    {
      "cell_type": "code",
      "execution_count": null,
      "metadata": {
        "id": "MNRqq9w6r6m-"
      },
      "outputs": [],
      "source": [
        "# define a first list\n",
        "course1 = ['data science', 'machine learning', 'python', 'html', 'big data' ]\n",
        "\n",
        "course1*2"
      ]
    },
    {
      "cell_type": "markdown",
      "metadata": {
        "id": "urban-armstrong",
        "jp-MarkdownHeadingCollapsed": true
      },
      "source": [
        "<a id=\"loops\"> </a>\n",
        "# 1. Conditional Statements"
      ]
    },
    {
      "cell_type": "markdown",
      "metadata": {
        "id": "hazardous-essex",
        "jp-MarkdownHeadingCollapsed": true
      },
      "source": [
        "<a id=\"if_statement\"> </a>\n",
        "## 1.1 if statement\n"
      ]
    },
    {
      "cell_type": "markdown",
      "metadata": {
        "id": "precious-framework"
      },
      "source": [
        "**syntax:**<br><br>\n",
        "if BOOLEAN EXPRESSION:<br>\n",
        "&nbsp;&nbsp;    STATEMENTS"
      ]
    },
    {
      "cell_type": "markdown",
      "metadata": {
        "id": "labeled-optics"
      },
      "source": [
        "####  Now, we will see some examples on if statements"
      ]
    },
    {
      "cell_type": "code",
      "execution_count": null,
      "metadata": {
        "id": "illegal-highlight"
      },
      "outputs": [],
      "source": [
        "# create a string\n",
        "my_string = 'Python'\n",
        "\n",
        "# create a list\n",
        "my_list = ['Data Science', 'Machine Learning', 'Artificial Intelligence', 'Python']\n",
        "\n",
        "if my_string in my_list:\n",
        "    print(my_string + ' Tutorial')"
      ]
    },
    {
      "cell_type": "markdown",
      "metadata": {
        "id": "blond-particle"
      },
      "source": [
        " Test if an item is a member of a list or not."
      ]
    },
    {
      "cell_type": "code",
      "execution_count": null,
      "metadata": {
        "id": "passive-horse"
      },
      "outputs": [],
      "source": [
        "languages = ['java', 'python' ,'perl', 'ruby', 'c#']\n",
        "if 'python' in languages:\n",
        "    print('right')"
      ]
    },
    {
      "cell_type": "markdown",
      "metadata": {
        "id": "armed-arrow",
        "jp-MarkdownHeadingCollapsed": true
      },
      "source": [
        "<a id=\"if_else\"> </a>\n",
        "## 3.2 if else statement\n"
      ]
    },
    {
      "cell_type": "markdown",
      "metadata": {
        "id": "sweet-binding"
      },
      "source": [
        "**Syntax of if...else**<br><br>\n",
        "if BOOLEAN EXPRESSION:<br>\n",
        "&nbsp;&nbsp;    STATEMENTS_1<br>\n",
        "else:<br>\n",
        "&nbsp;&nbsp;    STATEMENTS_2"
      ]
    },
    {
      "cell_type": "markdown",
      "metadata": {
        "id": "smaller-desktop"
      },
      "source": [
        "#### Let’s see an example of the implementation of the if…else statement."
      ]
    },
    {
      "cell_type": "code",
      "execution_count": null,
      "metadata": {
        "id": "beginning-mentor"
      },
      "outputs": [],
      "source": [
        "# create a integer\n",
        "x = 200\n",
        "print(x)\n",
        "\n",
        "# uses the not operator to reverse the result of the logical expression\n",
        "if not x == 500:\n",
        "    print('the value of x different from 500')\n",
        "else:\n",
        "    print('the value of x is equal to 500')"
      ]
    },
    {
      "cell_type": "code",
      "execution_count": 44,
      "metadata": {
        "id": "active-dealing",
        "outputId": "4b267fd5-4c6c-4002-9e80-851118da3f3a",
        "colab": {
          "base_uri": "https://localhost:8080/",
          "height": 356
        }
      },
      "outputs": [
        {
          "output_type": "error",
          "ename": "KeyboardInterrupt",
          "evalue": "Interrupted by user",
          "traceback": [
            "\u001b[0;31m---------------------------------------------------------------------------\u001b[0m",
            "\u001b[0;31mKeyboardInterrupt\u001b[0m                         Traceback (most recent call last)",
            "\u001b[0;32m/tmp/ipython-input-2331521191.py\u001b[0m in \u001b[0;36m<cell line: 0>\u001b[0;34m()\u001b[0m\n\u001b[0;32m----> 1\u001b[0;31m \u001b[0mstring1\u001b[0m \u001b[0;34m=\u001b[0m \u001b[0mstr\u001b[0m\u001b[0;34m(\u001b[0m\u001b[0minput\u001b[0m\u001b[0;34m(\u001b[0m\u001b[0;34m\"enter your userid\"\u001b[0m\u001b[0;34m)\u001b[0m\u001b[0;34m)\u001b[0m\u001b[0;34m\u001b[0m\u001b[0;34m\u001b[0m\u001b[0m\n\u001b[0m\u001b[1;32m      2\u001b[0m \u001b[0mstring2\u001b[0m \u001b[0;34m=\u001b[0m \u001b[0mstr\u001b[0m\u001b[0;34m(\u001b[0m\u001b[0minput\u001b[0m\u001b[0;34m(\u001b[0m\u001b[0;34m\"enter your password\"\u001b[0m\u001b[0;34m)\u001b[0m\u001b[0;34m)\u001b[0m\u001b[0;34m\u001b[0m\u001b[0;34m\u001b[0m\u001b[0m\n\u001b[1;32m      3\u001b[0m \u001b[0;34m\u001b[0m\u001b[0m\n\u001b[1;32m      4\u001b[0m \u001b[0;32mif\u001b[0m \u001b[0;34m(\u001b[0m\u001b[0mstring1\u001b[0m \u001b[0;34m==\u001b[0m \u001b[0;34m\"greatlearning\"\u001b[0m \u001b[0;32mand\u001b[0m \u001b[0mstring2\u001b[0m \u001b[0;34m==\u001b[0m \u001b[0;34m\"simplelearning123\"\u001b[0m\u001b[0;34m)\u001b[0m\u001b[0;34m:\u001b[0m\u001b[0;34m\u001b[0m\u001b[0;34m\u001b[0m\u001b[0m\n\u001b[1;32m      5\u001b[0m     \u001b[0mprint\u001b[0m\u001b[0;34m(\u001b[0m\u001b[0;34m\"Succefully logged in!!\"\u001b[0m\u001b[0;34m)\u001b[0m\u001b[0;34m\u001b[0m\u001b[0;34m\u001b[0m\u001b[0m\n",
            "\u001b[0;32m/usr/local/lib/python3.12/dist-packages/ipykernel/kernelbase.py\u001b[0m in \u001b[0;36mraw_input\u001b[0;34m(self, prompt)\u001b[0m\n\u001b[1;32m   1175\u001b[0m                 \u001b[0;34m\"raw_input was called, but this frontend does not support input requests.\"\u001b[0m\u001b[0;34m\u001b[0m\u001b[0;34m\u001b[0m\u001b[0m\n\u001b[1;32m   1176\u001b[0m             )\n\u001b[0;32m-> 1177\u001b[0;31m         return self._input_request(\n\u001b[0m\u001b[1;32m   1178\u001b[0m             \u001b[0mstr\u001b[0m\u001b[0;34m(\u001b[0m\u001b[0mprompt\u001b[0m\u001b[0;34m)\u001b[0m\u001b[0;34m,\u001b[0m\u001b[0;34m\u001b[0m\u001b[0;34m\u001b[0m\u001b[0m\n\u001b[1;32m   1179\u001b[0m             \u001b[0mself\u001b[0m\u001b[0;34m.\u001b[0m\u001b[0m_parent_ident\u001b[0m\u001b[0;34m[\u001b[0m\u001b[0;34m\"shell\"\u001b[0m\u001b[0;34m]\u001b[0m\u001b[0;34m,\u001b[0m\u001b[0;34m\u001b[0m\u001b[0;34m\u001b[0m\u001b[0m\n",
            "\u001b[0;32m/usr/local/lib/python3.12/dist-packages/ipykernel/kernelbase.py\u001b[0m in \u001b[0;36m_input_request\u001b[0;34m(self, prompt, ident, parent, password)\u001b[0m\n\u001b[1;32m   1217\u001b[0m             \u001b[0;32mexcept\u001b[0m \u001b[0mKeyboardInterrupt\u001b[0m\u001b[0;34m:\u001b[0m\u001b[0;34m\u001b[0m\u001b[0;34m\u001b[0m\u001b[0m\n\u001b[1;32m   1218\u001b[0m                 \u001b[0;31m# re-raise KeyboardInterrupt, to truncate traceback\u001b[0m\u001b[0;34m\u001b[0m\u001b[0;34m\u001b[0m\u001b[0m\n\u001b[0;32m-> 1219\u001b[0;31m                 \u001b[0;32mraise\u001b[0m \u001b[0mKeyboardInterrupt\u001b[0m\u001b[0;34m(\u001b[0m\u001b[0;34m\"Interrupted by user\"\u001b[0m\u001b[0;34m)\u001b[0m \u001b[0;32mfrom\u001b[0m \u001b[0;32mNone\u001b[0m\u001b[0;34m\u001b[0m\u001b[0;34m\u001b[0m\u001b[0m\n\u001b[0m\u001b[1;32m   1220\u001b[0m             \u001b[0;32mexcept\u001b[0m \u001b[0mException\u001b[0m\u001b[0;34m:\u001b[0m\u001b[0;34m\u001b[0m\u001b[0;34m\u001b[0m\u001b[0m\n\u001b[1;32m   1221\u001b[0m                 \u001b[0mself\u001b[0m\u001b[0;34m.\u001b[0m\u001b[0mlog\u001b[0m\u001b[0;34m.\u001b[0m\u001b[0mwarning\u001b[0m\u001b[0;34m(\u001b[0m\u001b[0;34m\"Invalid Message:\"\u001b[0m\u001b[0;34m,\u001b[0m \u001b[0mexc_info\u001b[0m\u001b[0;34m=\u001b[0m\u001b[0;32mTrue\u001b[0m\u001b[0;34m)\u001b[0m\u001b[0;34m\u001b[0m\u001b[0;34m\u001b[0m\u001b[0m\n",
            "\u001b[0;31mKeyboardInterrupt\u001b[0m: Interrupted by user"
          ]
        }
      ],
      "source": [
        "string1 = str(input(\"enter your userid\"))\n",
        "string2 = str(input(\"enter your password\"))\n",
        "\n",
        "if (string1 == \"greatlearning\" and string2 == \"simplelearning123\"):\n",
        "    print(\"Succefully logged in!!\")\n",
        "else :\n",
        "    print(\"Please check your userid and password\")"
      ]
    },
    {
      "cell_type": "markdown",
      "metadata": {
        "id": "broken-transaction",
        "jp-MarkdownHeadingCollapsed": true
      },
      "source": [
        "<a id=\"if_elif_else\"> </a>\n",
        "## 1.3 if elif else\n"
      ]
    },
    {
      "cell_type": "markdown",
      "metadata": {
        "id": "artificial-hardwood"
      },
      "source": [
        "**Syntax of if elif else:**<br>\n",
        "if x < y:<br>\n",
        "&nbsp;&nbsp;    STATEMENTS_A<br>\n",
        "elif x > y:<br>\n",
        "&nbsp;&nbsp    STATEMENTS_B<br>\n",
        "else:<br>\n",
        "&nbsp;&nbsp;    STATEMENTS_C"
      ]
    },
    {
      "cell_type": "markdown",
      "metadata": {
        "id": "female-absolute"
      },
      "source": [
        "#### Q. Check whether the given number is greater than 50 or not"
      ]
    },
    {
      "cell_type": "code",
      "execution_count": null,
      "metadata": {
        "id": "figured-dynamics"
      },
      "outputs": [],
      "source": [
        "num = 100\n",
        "if (num == 0):\n",
        "    print(\"Number is Zero\")\n",
        "elif (num > 5):\n",
        "    print(\"Number is greater than 50\")\n",
        "else:\n",
        "    print(\"Number is smaller than 50\")\n"
      ]
    },
    {
      "cell_type": "markdown",
      "metadata": {
        "id": "ruled-davis",
        "jp-MarkdownHeadingCollapsed": true
      },
      "source": [
        "<a id=\"nested_if\"> </a>\n",
        "## 1.4 nested if and if else statement\n"
      ]
    },
    {
      "cell_type": "code",
      "execution_count": null,
      "metadata": {
        "id": "wrong-polls"
      },
      "outputs": [],
      "source": [
        "num = float(input(\"Enter a number: \"))\n",
        "if num >= 0:\n",
        "    if num == 0:\n",
        "        print(\"Zero\")\n",
        "    else:\n",
        "        print(\"Positive number\")\n",
        "else:\n",
        "    print(\"Negative number\")"
      ]
    },
    {
      "cell_type": "code",
      "source": [
        "mychild=['roka','mouse','asia']\n",
        "if 'roka' in mychild:\n",
        "  print ('right')"
      ],
      "metadata": {
        "colab": {
          "base_uri": "https://localhost:8080/"
        },
        "id": "vPYrw8Pl5qb2",
        "outputId": "b9c309d2-e264-4cea-e282-793523ae39d0"
      },
      "execution_count": 46,
      "outputs": [
        {
          "output_type": "stream",
          "name": "stdout",
          "text": [
            "right\n"
          ]
        }
      ]
    }
  ],
  "metadata": {
    "colab": {
      "collapsed_sections": [
        "ftCxC4m1WwN4",
        "loqrEgAPWwN6",
        "PKGTWcsRWwN-",
        "XcpVNMYeF9Qp",
        "-itifEJ3WwOD",
        "ilx9djl-WwOE",
        "EVRWwplyWwPK",
        "NeztNGtGWwP5",
        "MnsdtyNjWwQB",
        "TgPxKm5oWwQH",
        "7Ki6x4JFr6mt",
        "eit6jEBtr6mu",
        "Xgsf-t9Jr6my",
        "FVbHyjOxr6m1",
        "xuoLU4rYr6m2",
        "cXroEdaWr6m3",
        "hJa24XY3r6m9",
        "urban-armstrong",
        "hazardous-essex",
        "labeled-optics",
        "armed-arrow",
        "smaller-desktop",
        "broken-transaction",
        "female-absolute",
        "ruled-davis",
        "unavailable-encyclopedia",
        "statutory-catalog",
        "random-rescue",
        "handmade-salvation",
        "touched-wisconsin"
      ],
      "provenance": [],
      "include_colab_link": true
    },
    "kernelspec": {
      "display_name": "Python 3",
      "language": "python",
      "name": "python3"
    },
    "language_info": {
      "codemirror_mode": {
        "name": "ipython",
        "version": 3
      },
      "file_extension": ".py",
      "mimetype": "text/x-python",
      "name": "python",
      "nbconvert_exporter": "python",
      "pygments_lexer": "ipython3",
      "version": "3.8.8"
    }
  },
  "nbformat": 4,
  "nbformat_minor": 0
}